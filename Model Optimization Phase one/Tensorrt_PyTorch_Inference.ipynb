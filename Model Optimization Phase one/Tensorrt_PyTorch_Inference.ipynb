{
 "cells": [
  {
   "cell_type": "code",
   "execution_count": 3,
   "id": "afdce9af-a463-4b0a-b649-7b467c37f74f",
   "metadata": {},
   "outputs": [],
   "source": [
    "import torch\n",
    "import cv2\n",
    "import numpy as np\n",
    "import torch.nn as nn\n",
    "from torchvision.transforms import ToTensor\n",
    "import time\n",
    "import pycuda.driver as cuda\n",
    "import pycuda.autoinit\n",
    "import tensorrt as trt"
   ]
  },
  {
   "cell_type": "code",
   "execution_count": 5,
   "id": "bf90946f-b806-4cf9-8dad-506edb659cae",
   "metadata": {},
   "outputs": [
    {
     "name": "stdout",
     "output_type": "stream",
     "text": [
      "The model predicts the input video belongs to class: Swing\n",
      "Inference time: 0.06108 seconds\n"
     ]
    }
   ],
   "source": [
    "import cv2\n",
    "import numpy as np\n",
    "import torch\n",
    "import tensorrt as trt\n",
    "from torchvision.transforms import ToTensor\n",
    "\n",
    "# Load the TensorRT model\n",
    "TRT_LOGGER = trt.Logger(trt.Logger.WARNING)\n",
    "with open('conv3D_model_best.trt', 'rb') as f, trt.Runtime(TRT_LOGGER) as runtime:\n",
    "    engine = runtime.deserialize_cuda_engine(f.read())\n",
    "    context = engine.create_execution_context()\n",
    "\n",
    "SEQUENCE_LENGTH = 25\n",
    "DATASET_DIR = \"UCT50\"\n",
    "CLASSES_LIST = [\"WalkingWithDog\",\"TaiChi\",\"Swing\",\"Horserace\"]\n",
    "IMAGE_HEIGHT = 64\n",
    "IMAGE_WIDTH = 64\n",
    "    \n",
    "# Define the transform for input frames\n",
    "transform = ToTensor()\n",
    "\n",
    "def preprocess_video(video_path):\n",
    "    frames_list = []\n",
    "    video_reader = cv2.VideoCapture(video_path)\n",
    "\n",
    "    for frame_counter in range(SEQUENCE_LENGTH):\n",
    "        success, frame = video_reader.read()\n",
    "        if not success:\n",
    "            break\n",
    "\n",
    "        resized_frame = cv2.resize(frame, (IMAGE_HEIGHT, IMAGE_WIDTH))\n",
    "        normalized_frame = resized_frame / 255\n",
    "        frames_list.append(normalized_frame)\n",
    "\n",
    "    video_reader.release()\n",
    "    frames_list = [transform(frame.astype(np.float32)) for frame in frames_list]\n",
    "    frames_tensor = torch.stack(frames_list)\n",
    "    return frames_tensor.unsqueeze(0)\n",
    "\n",
    "# Replace 'input_video_path' with the path to your input video\n",
    "input_video_path = 'v_Swing_g01_c01.avi'\n",
    "input_data = preprocess_video(input_video_path)\n",
    "\n",
    "# Define the shape of the output tensor based on your model\n",
    "output_shape = (1, 4)  # Adjust this based on your model's output shape\n",
    "\n",
    "# Create an empty output tensor\n",
    "output = np.empty(output_shape, dtype=np.float32)\n",
    "\n",
    "# Allocate device memory for inputs and outputs\n",
    "d_input = cuda.mem_alloc(input_data.element_size() * input_data.nelement())\n",
    "d_output = cuda.mem_alloc(output.nbytes)\n",
    "\n",
    "\n",
    "# Create a stream\n",
    "stream = cuda.Stream()\n",
    "\n",
    "# Transfer input data to device\n",
    "cuda.memcpy_htod_async(d_input, input_data.numpy().ravel(), stream)\n",
    "\n",
    "# Measure inference time\n",
    "start_time = time.time()\n",
    "\n",
    "# Execute inference\n",
    "context.execute_async(bindings=[int(d_input), int(d_output)], stream_handle=stream.handle)\n",
    "stream.synchronize()\n",
    "\n",
    "end_time = time.time()\n",
    "inference_time = end_time - start_time\n",
    "\n",
    "# Transfer predictions back to host\n",
    "cuda.memcpy_dtoh_async(output, d_output, stream)\n",
    "stream.synchronize()\n",
    "\n",
    "# Convert the NumPy array to a PyTorch tensor\n",
    "output_tensor = torch.from_numpy(output)\n",
    "\n",
    "# Get the predicted class index\n",
    "_, predicted_class = torch.max(output_tensor, 1)\n",
    "predicted_class_index = predicted_class.item()\n",
    "\n",
    "# Map the index to the class name\n",
    "predicted_class_name = CLASSES_LIST[predicted_class_index]\n",
    "\n",
    "print(f\"The model predicts the input video belongs to class: {predicted_class_name}\")\n",
    "print(f\"Inference time: {inference_time:.5f} seconds\")"
   ]
  },
  {
   "cell_type": "code",
   "execution_count": 11,
   "id": "b16a7638-1cbc-4269-9a1c-5163eba298a5",
   "metadata": {},
   "outputs": [
    {
     "name": "stdout",
     "output_type": "stream",
     "text": [
      "The size of the TensorRT model file is: 13.17 MB\n"
     ]
    }
   ],
   "source": [
    "import os\n",
    "\n",
    "# Get the size of the serialized engine file\n",
    "model_size = os.path.getsize('/nvdli-nano/data/Inference/conv3D_model_best.trt')\n",
    "\n",
    "print(f\"The size of the TensorRT model file is: {model_size / (1024 * 1024):.2f} MB\")"
   ]
  },
  {
   "cell_type": "code",
   "execution_count": null,
   "id": "e6f77b77-5667-4929-9812-591b95e3861b",
   "metadata": {},
   "outputs": [],
   "source": []
  }
 ],
 "metadata": {
  "kernelspec": {
   "display_name": "Python 3",
   "language": "python",
   "name": "python3"
  },
  "language_info": {
   "codemirror_mode": {
    "name": "ipython",
    "version": 3
   },
   "file_extension": ".py",
   "mimetype": "text/x-python",
   "name": "python",
   "nbconvert_exporter": "python",
   "pygments_lexer": "ipython3",
   "version": "3.6.9"
  }
 },
 "nbformat": 4,
 "nbformat_minor": 5
}
